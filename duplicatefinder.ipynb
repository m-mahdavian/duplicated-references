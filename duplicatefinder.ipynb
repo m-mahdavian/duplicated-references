{
  "nbformat": 4,
  "nbformat_minor": 0,
  "metadata": {
    "colab": {
      "provenance": [],
      "authorship_tag": "ABX9TyPaJNabIqx6gZw1lT0EtPOw",
      "include_colab_link": true
    },
    "kernelspec": {
      "name": "python3",
      "display_name": "Python 3"
    },
    "language_info": {
      "name": "python"
    }
  },
  "cells": [
    {
      "cell_type": "markdown",
      "metadata": {
        "id": "view-in-github",
        "colab_type": "text"
      },
      "source": [
        "<a href=\"https://colab.research.google.com/github/m-mahdavian/duplicated-references/blob/main/duplicatefinder.ipynb\" target=\"_parent\"><img src=\"https://colab.research.google.com/assets/colab-badge.svg\" alt=\"Open In Colab\"/></a>"
      ]
    },
    {
      "cell_type": "markdown",
      "source": [
        "Unfortunately, using reference managers by different co-authors sometimes results in an anomaly in the reference list.\n",
        "Some references may be inserted in two places of the references list with the exactly same format or with a bit difference in the data.\n",
        "Although reference managers have built-in duplicate removers, when two or more co-authors are working on a manuscript, facing this problem seems inevitable.\n",
        "Purpose of this program is to assist authors, especially corresponding authors, to detect duplicate references in the lengthy reference list of manuscripts before submission to a journal.\n",
        "You can remove the 100% match duplicates with no further consideration. However, those which are found similar might be duplicate due to different information entry in the reference managers or different due to, for e.g., similar titles of similar author list.\n",
        "Therefore, in the case of susceptible duplicates remove them manually after a thorough check. I used FuzzyWuzzy library of Python to find similarities.\n",
        "You can decrease the target similarity % if you think there is more chance to find duplicates in your references list due to errors in references data entry in the reference managers.\n",
        "\n",
        "To use this code, you need to simply copy-past the references list it into the notepad and save it as \"references.txt\".\n",
        "This program is compatible with most references list. However, with some references list format a bit change in the codes may be required.\n",
        "Please leave me a comment if you enjoy it or you find a glitch with some references list, or you come up with some hints to change the code. Please mention your selected similarity % in your comment.\n",
        "\n",
        "Note: Finding duplicates using duplicated() and removing them with drop_duplicates() methods seems to be ineffective sometime that is why I didnt use them here.\n",
        "\n",
        "This code has been developed by M. Mahdavian. I have used some hints of Bing AI to develop this code.\n",
        "https://www.linkedin.com/in/mohammad-mahdavian-50827b53"
      ],
      "metadata": {
        "id": "4tbx-e_lCzgX"
      }
    },
    {
      "cell_type": "code",
      "source": [
        "pip install fuzzywuzzy[speedup]"
      ],
      "metadata": {
        "id": "TMs2DzZu6ks-"
      },
      "execution_count": null,
      "outputs": []
    },
    {
      "cell_type": "code",
      "execution_count": null,
      "metadata": {
        "id": "vrylfiX4GMu4"
      },
      "outputs": [],
      "source": [
        "import pandas as pd\n",
        "from fuzzywuzzy import fuzz"
      ]
    },
    {
      "cell_type": "markdown",
      "source": [
        "# Read the References Text File"
      ],
      "metadata": {
        "id": "LruxUQC-3Qc3"
      }
    },
    {
      "cell_type": "code",
      "source": [
        "file = open(\"references.txt\", \"rb\")\n",
        "data = file.readlines()\n",
        "file.close()\n",
        "x=0\n",
        "text=[]\n",
        "while x <len(data):\n",
        "  text.append(data[x].decode(\"ISO-8859-1\"))\n",
        "  x=x+1"
      ],
      "metadata": {
        "id": "iLkwa3PZcgbX"
      },
      "execution_count": null,
      "outputs": []
    },
    {
      "cell_type": "code",
      "source": [
        "df=pd.DataFrame(text)"
      ],
      "metadata": {
        "id": "3xNpKkoB0he0"
      },
      "execution_count": null,
      "outputs": []
    },
    {
      "cell_type": "code",
      "source": [
        "df[0] = df[0].str.strip('[]')\n",
        "x=0\n",
        "while x<len(df):\n",
        "  df = df.replace(r'\\d+]\\t', '', regex=True)\n",
        "  x=x+1\n",
        "df"
      ],
      "metadata": {
        "id": "lbWWo42b30yB"
      },
      "execution_count": null,
      "outputs": []
    },
    {
      "cell_type": "markdown",
      "source": [
        "# Exact Duplicates"
      ],
      "metadata": {
        "id": "GhOu1zf-2SoX"
      }
    },
    {
      "cell_type": "markdown",
      "source": [],
      "metadata": {
        "id": "qWpkvlfF2Y8C"
      }
    },
    {
      "cell_type": "code",
      "source": [
        "i=0\n",
        "j=0\n",
        "s=0\n",
        "duplicated=[]\n",
        "#index_of_duplicates=id\n",
        "id=[]\n",
        "while i <len(df):\n",
        "  while j<len(df):\n",
        "    if i!=j and df.iloc[i].to_string()==df.iloc[j].to_string():\n",
        "      if df.iloc[i].to_string() not in duplicated and i not in id and j not in id:\n",
        "        print(\"Ref. Number #\", i+1, \"is identical (100% similar) to Ref. Number #\", j+1)\n",
        "        duplicated.append(df.iloc[i].to_string())\n",
        "        id.append(j)\n",
        "      s=s+1\n",
        "    j=j+1\n",
        "  j=0\n",
        "  i=i+1\n",
        "if s==0:\n",
        "  print(\"NO IDENTICAL (100% SIMILAR) REFERENCES WERE DETECTED.\")"
      ],
      "metadata": {
        "id": "4-gDLmJqKyn7"
      },
      "execution_count": null,
      "outputs": []
    },
    {
      "cell_type": "code",
      "source": [
        "i=0\n",
        "j=0\n",
        "while i<len(df):\n",
        "  if df.iloc[i].to_string() in duplicated:\n",
        "    #print(j)\n",
        "    del duplicated[j]\n",
        "    df.at[i, 0] = \"Mahdavian\"\n",
        "  i=i+1\n",
        "df"
      ],
      "metadata": {
        "id": "3SbLYVPFSN14"
      },
      "execution_count": null,
      "outputs": []
    },
    {
      "cell_type": "markdown",
      "source": [
        "# Near Duplicates"
      ],
      "metadata": {
        "id": "fY5spxRx2cRK"
      }
    },
    {
      "cell_type": "code",
      "source": [
        "i=0\n",
        "j=0\n",
        "s=0\n",
        "similarity=80\n",
        "id=[]\n",
        "print(\"Succeptible duplicated references cosidering similarity above or equal to\", similarity, \"%:\")\n",
        "print(\"***Remove them manually after a thorough check. You can decrease similarity % if you think \\nthere is more chance to find duplicates in your references list due to errors in references \\ninformation entry in the reference managers.***\")\n",
        "while i <len(df):\n",
        "  while j<len(df):\n",
        "    if i!=j and fuzz.ratio(df.iloc[i].to_string(), df.iloc[j].to_string())>=similarity:\n",
        "      id1=len(df.iloc[i].to_string())\n",
        "      id2=len(df.iloc[j].to_string())\n",
        "      if id1!=14 or id2!=14:\n",
        "        if i not in id and j not in id:\n",
        "          print(\"Ref. Number #\", i+1, \"is similar to Ref. Number #\", j+1)\n",
        "          id.append(j)\n",
        "        s=s+1\n",
        "    j=j+1\n",
        "  j=0\n",
        "  i=i+1\n",
        "if s==0:\n",
        "  print(\"NO SIMILARITY WAS DETECTED.\")\n"
      ],
      "metadata": {
        "id": "N7K_FhIeKin0"
      },
      "execution_count": null,
      "outputs": []
    }
  ]
}